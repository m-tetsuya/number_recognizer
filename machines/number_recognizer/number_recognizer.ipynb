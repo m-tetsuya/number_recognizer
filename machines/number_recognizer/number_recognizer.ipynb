{
 "cells": [
  {
   "cell_type": "markdown",
   "metadata": {},
   "source": [
    "# Number Recognizer\n",
    "\n",
    "今回は、ブラウザ上に書いた手書きの数字を認識させます。具体的には、canvasに書かれた数字が0～9のどれであるかを当てさせます。  \n",
    "その予測を行うためのモデルを、以下のステップに沿って作成していきます。\n",
    "\n",
    "\n",
    "* [データロード](#Load-the-Data)\n",
    "* [モデル構築](#Create-the-Model)\n",
    "* [学習](#Training-the-Model)\n",
    "* [評価](#Evaluate-the-Model)\n",
    "* [保存](#Store-the-Model)\n"
   ]
  },
  {
   "cell_type": "code",
   "execution_count": 4,
   "metadata": {
    "collapsed": true
   },
   "outputs": [],
   "source": [
    "# グラフが文章中に表示されるようにするおまじない\n",
    "%matplotlib inline"
   ]
  },
  {
   "cell_type": "markdown",
   "metadata": {},
   "source": [
    "## Load the Data\n",
    "\n",
    "scikit-learnには、最初から手書きの数字を認識するための学習データ(手書き数字の画像データと、その画像の数字が0～9の何れであるかという答えのセット)が搭載されているため、それを利用します。"
   ]
  },
  {
   "cell_type": "code",
   "execution_count": 6,
   "metadata": {
    "collapsed": false
   },
   "outputs": [
    {
     "name": "stdout",
     "output_type": "stream",
     "text": [
      "(1797, 64)\n"
     ]
    }
   ],
   "source": [
    "def load_data():\n",
    "    from sklearn import datasets\n",
    "    dataset = datasets.load_digits()\n",
    "    return dataset\n",
    "\n",
    "digits = load_data()\n",
    "print(digits.data.shape)"
   ]
  },
  {
   "cell_type": "markdown",
   "metadata": {},
   "source": [
    "`1797`は行数、`64`は次元数です。手書き文字の画像データが8×8のサイズであるため、その中のピクセル情報は64となります(今回値はグレースケールですが、RGBの場合3倍になります)。"
   ]
  },
  {
   "cell_type": "code",
   "execution_count": 8,
   "metadata": {
    "collapsed": false
   },
   "outputs": [
    {
     "data": {
      "image/png": "[encoded data removed]",
      "text/plain": [
       "<matplotlib.figure.Figure at 0x1082fd780>"
      ]
     },
     "metadata": {},
     "output_type": "display_data"
    }
   ],
   "source": [
    "def show_image(image):\n",
    "    import matplotlib.pyplot as plt\n",
    "\n",
    "    plt.figure(1, figsize=(3, 3))\n",
    "    plt.imshow(image, cmap=plt.cm.gray_r, interpolation='nearest')\n",
    "    plt.show()\n",
    "\n",
    "show_image(digits.images[0])"
   ]
  },
  {
   "cell_type": "markdown",
   "metadata": {},
   "source": [
    "## Create the Model\n",
    "\n",
    "今回扱うのは画像の分類問題になります。そこで、シンプルな線形分類機であるSGDClassifierを利用します。"
   ]
  },
  {
   "cell_type": "code",
   "execution_count": 9,
   "metadata": {
    "collapsed": true
   },
   "outputs": [],
   "source": [
    "def make_model():\n",
    "    from sklearn.linear_model import SGDClassifier    \n",
    "    clf = SGDClassifier(alpha=0.0001, fit_intercept=True, n_iter=200)\n",
    "    return clf\n",
    "    \n",
    "classifier = make_model()"
   ]
  },
  {
   "cell_type": "markdown",
   "metadata": {},
   "source": [
    "## Training the Model"
   ]
  },
  {
   "cell_type": "markdown",
   "metadata": {},
   "source": [
    "データとモデルがそろったため、学習させてみます。"
   ]
  },
  {
   "cell_type": "code",
   "execution_count": 13,
   "metadata": {
    "collapsed": false
   },
   "outputs": [
    {
     "name": "stdout",
     "output_type": "stream",
     "text": [
      "dataset is splited to train/test = 1797 -> 1257, 540\n"
     ]
    }
   ],
   "source": [
    "def split_dataset(dataset, test_size=0.3):\n",
    "    from sklearn import cross_validation\n",
    "    from collections import namedtuple\n",
    "\n",
    "    DataSet = namedtuple(\"DataSet\", [\"data\", \"target\"])\n",
    "    train_d, test_d, train_t, test_t = cross_validation.train_test_split(dataset.data, dataset.target, test_size=test_size, random_state=0)\n",
    "\n",
    "    left = DataSet(train_d, train_t)\n",
    "    right = DataSet(test_d, test_t)\n",
    "\n",
    "    return left, right\n",
    "\n",
    "# use 30% of data to test the model\n",
    "training_set, test_set = split_dataset(digits, 0.3)\n",
    "print(\"dataset is splited to train/test = {0} -> {1}, {2}\".format(\n",
    "        len(digits.data), len(training_set.data), len(test_set.data))\n",
    "     )\n"
   ]
  },
  {
   "cell_type": "code",
   "execution_count": 14,
   "metadata": {
    "collapsed": false
   },
   "outputs": [
    {
     "data": {
      "text/plain": [
       "SGDClassifier(alpha=0.0001, average=False, class_weight=None, epsilon=0.1,\n",
       "       eta0=0.0, fit_intercept=True, l1_ratio=0.15,\n",
       "       learning_rate='optimal', loss='hinge', n_iter=200, n_jobs=1,\n",
       "       penalty='l2', power_t=0.5, random_state=None, shuffle=True,\n",
       "       verbose=0, warm_start=False)"
      ]
     },
     "execution_count": 14,
     "metadata": {},
     "output_type": "execute_result"
    }
   ],
   "source": [
    "classifier.fit(training_set.data, training_set.target)"
   ]
  },
  {
   "cell_type": "code",
   "execution_count": 21,
   "metadata": {
    "collapsed": false
   },
   "outputs": [
    {
     "name": "stdout",
     "output_type": "stream",
     "text": [
      "0.912 (+/-0.015) for {'alpha': 0.001, 'loss': 'hinge'}\n",
      "0.905 (+/-0.017) for {'alpha': 0.001, 'loss': 'log'}\n",
      "0.899 (+/-0.013) for {'alpha': 0.0001, 'loss': 'hinge'}\n",
      "0.895 (+/-0.018) for {'alpha': 1e-05, 'loss': 'log'}\n",
      "0.891 (+/-0.013) for {'alpha': 0.0001, 'loss': 'log'}\n",
      "0.886 (+/-0.014) for {'alpha': 1e-05, 'loss': 'hinge'}\n"
     ]
    }
   ],
   "source": [
    "def tuning_model(model_func, dataset):\n",
    "    from sklearn.grid_search import GridSearchCV\n",
    "\n",
    "    candidates = [\n",
    "        {\"loss\": [\"hinge\", \"log\"],\n",
    "         \"alpha\": [1e-5, 1e-4, 1e-3]\n",
    "        }]\n",
    "\n",
    "    searcher = GridSearchCV(model_func(), candidates, cv=5, scoring=\"f1_weighted\")\n",
    "    searcher.fit(dataset.data, dataset.target)\n",
    "\n",
    "    for params, mean_score, scores in sorted(searcher.grid_scores_, key=lambda s: s[1], reverse=True):\n",
    "        print(\"%0.3f (+/-%0.03f) for %r\" % (mean_score, scores.std() / 2, params))\n",
    "\n",
    "    return searcher.best_estimator_\n",
    "\n",
    "classifier = tuning_model(make_model, digits)"
   ]
  },
  {
   "cell_type": "markdown",
   "metadata": {},
   "source": [
    "## Evaluate the Model"
   ]
  },
  {
   "cell_type": "markdown",
   "metadata": {},
   "source": [
    "学習させたモデルの精度を計測してみます。`predict`で予測させることができるので、これで予測させた値と実際の答え(`digits.target`)を比べてみます。"
   ]
  },
  {
   "cell_type": "code",
   "execution_count": 22,
   "metadata": {
    "collapsed": false
   },
   "outputs": [
    {
     "name": "stdout",
     "output_type": "stream",
     "text": [
      "0.980906921241\n",
      "0.983333333333\n"
     ]
    }
   ],
   "source": [
    "def calculate_accuracy(model, dataset):\n",
    "    from sklearn import metrics\n",
    "\n",
    "    predicted = model.predict(dataset.data)\n",
    "    score = metrics.accuracy_score(dataset.target, predicted)\n",
    "    return score\n",
    "\n",
    "print(calculate_accuracy(classifier, training_set))\n",
    "print(calculate_accuracy(classifier, test_set))"
   ]
  },
  {
   "cell_type": "code",
   "execution_count": 23,
   "metadata": {
    "collapsed": false
   },
   "outputs": [
    {
     "data": {
      "image/png": "[encoded data removed]",
      "text/plain": [
       "<matplotlib.figure.Figure at 0x107d61b38>"
      ]
     },
     "metadata": {},
     "output_type": "display_data"
    }
   ],
   "source": [
    "def plot_learning_curve(model_func, dataset):\n",
    "    from sklearn.learning_curve import learning_curve\n",
    "    import matplotlib.pyplot as plt\n",
    "    import numpy as np\n",
    "\n",
    "    sizes = [i / 10 for i in range(1, 11)]\n",
    "    train_sizes, train_scores, valid_scores = learning_curve(model_func(), dataset.data, dataset.target, train_sizes=sizes, cv=5)\n",
    "\n",
    "    take_means = lambda s: np.mean(s, axis=1)\n",
    "    plt.plot(sizes, take_means(train_scores), label=\"training\")\n",
    "    plt.plot(sizes, take_means(valid_scores), label=\"test\")\n",
    "    plt.ylim(0, 1.1)\n",
    "    plt.title(\"learning curve\")\n",
    "    plt.legend(loc=\"lower right\")\n",
    "    plt.show()\n",
    "\n",
    "plot_learning_curve(make_model, digits)"
   ]
  },
  {
   "cell_type": "code",
   "execution_count": 24,
   "metadata": {
    "collapsed": false
   },
   "outputs": [
    {
     "name": "stdout",
     "output_type": "stream",
     "text": [
      "             precision    recall  f1-score   support\n",
      "\n",
      "         #0       1.00      1.00      1.00       178\n",
      "         #1       0.94      1.00      0.97       182\n",
      "         #2       0.99      0.99      0.99       177\n",
      "         #3       1.00      0.91      0.95       183\n",
      "         #4       1.00      0.98      0.99       181\n",
      "         #5       0.99      0.99      0.99       182\n",
      "         #6       1.00      1.00      1.00       181\n",
      "         #7       0.99      1.00      0.99       179\n",
      "         #8       0.91      0.95      0.93       174\n",
      "         #9       0.99      0.98      0.99       180\n",
      "\n",
      "avg / total       0.98      0.98      0.98      1797\n",
      "\n"
     ]
    }
   ],
   "source": [
    "def show_confusion_matrix(model, dataset):\n",
    "    from sklearn.metrics import classification_report\n",
    "\n",
    "    predicted = model.predict(dataset.data)\n",
    "    target_names = [\"#{0}\".format(i) for i in range(0, 10)]\n",
    "\n",
    "    print(classification_report(dataset.target, predicted, target_names=target_names))\n",
    "\n",
    "show_confusion_matrix(classifier, digits)"
   ]
  },
  {
   "cell_type": "markdown",
   "metadata": {},
   "source": [
    "## Store the Model"
   ]
  },
  {
   "cell_type": "markdown",
   "metadata": {},
   "source": [
    "最後に、学習させたモデルを保存します。アプリケーション側で、その結果を確認してみてください。"
   ]
  },
  {
   "cell_type": "code",
   "execution_count": 25,
   "metadata": {
    "collapsed": false
   },
   "outputs": [
    {
     "data": {
      "text/plain": [
       "['./machine.pkl',\n",
       " './machine.pkl_01.npy',\n",
       " './machine.pkl_02.npy',\n",
       " './machine.pkl_03.npy',\n",
       " './machine.pkl_04.npy']"
      ]
     },
     "execution_count": 25,
     "metadata": {},
     "output_type": "execute_result"
    }
   ],
   "source": [
    "from sklearn.externals import joblib\n",
    "\n",
    "joblib.dump(classifier, \"./machine.pkl\") "
   ]
  },
  {
   "cell_type": "code",
   "execution_count": null,
   "metadata": {
    "collapsed": true
   },
   "outputs": [],
   "source": []
  }
 ],
 "metadata": {
  "kernelspec": {
   "display_name": "Python 3",
   "language": "python",
   "name": "python3"
  },
  "language_info": {
   "codemirror_mode": {
    "name": "ipython",
    "version": 3
   },
   "file_extension": ".py",
   "mimetype": "text/x-python",
   "name": "python",
   "nbconvert_exporter": "python",
   "pygments_lexer": "ipython3",
   "version": "3.4.3"
  }
 },
 "nbformat": 4,
 "nbformat_minor": 0
}
